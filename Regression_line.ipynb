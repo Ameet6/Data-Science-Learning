{
 "cells": [
  {
   "cell_type": "markdown",
   "id": "c4df706e-21c0-4fe0-8a7e-5967fbe6706d",
   "metadata": {},
   "source": [
    "# Linear Regression (Concept)\n",
    "    What it is: A statistical method to find the relationship between a dependent variable (Y) and one or more independent variables (X).\n",
    "- Why it’s useful: Helps us predict outcomes. For example:\n",
    "- Predicting house prices based on size.\n",
    "- Predicting student marks based on study hours."
   ]
  },
  {
   "cell_type": "markdown",
   "id": "5e373121-7c6d-47e4-b90b-8a70001223d2",
   "metadata": {},
   "source": [
    "## Example:\n",
    "\n",
    "| Student | Hours Studied (X) | Exam Marks (Y) |\n",
    "| ------- | ----------------- | -------------- |\n",
    "| 1       | 2                 | 50             |\n",
    "| 2       | 3                 | 60             |\n",
    "| 3       | 4                 | 65             |\n",
    "| 4       | 5                 | 80             |\n",
    "| 5       | 6                 | 85             |\n",
    "| 6       | 7                 | 90             |\n"
   ]
  },
  {
   "cell_type": "code",
   "execution_count": 5,
   "id": "e15872af-93f3-4632-bb7a-eafbdcbf3855",
   "metadata": {},
   "outputs": [],
   "source": [
    "import numpy as np\n",
    "import pandas as pd\n",
    "import seaborn as sns\n",
    "import matplotlib.pyplot as plt\n",
    "\n",
    "# Data\n",
    "hours = np.array([2, 3, 4, 5, 6, 7])\n",
    "marks = np.array([50, 60, 65, 80, 85, 90])\n",
    "df = pd.DataFrame({'Hours': hours, 'Marks': marks})\n"
   ]
  },
  {
   "cell_type": "markdown",
   "id": "22ffd69f-ab4f-44fc-9a83-e1ba9f278203",
   "metadata": {},
   "source": [
    "# Correlation vs Covariance\n",
    "## 1. Covariance\n",
    "    Definition: Covariance measures how two random variables change together.\n",
    "- Formula (for two variables X and Y):\n",
    "![](cov_formula.png)\n",
    "\n",
    "- Interpretation:\n",
    "    - Cov(X,Y)>0: As X increases, Y tends to increase (positive relationship).\n",
    "    - Cov(X,Y)<0: As X increases, Y tends to decrease (negative relationship).\n",
    "    - Cov(X,Y)=0: No linear relationship.\n",
    "\n",
    "- ⚠️ Problem: Covariance is scale-dependent (units matter).\n",
    "    - Example: Covariance between height (cm) and weight (kg) is not directly comparable with covariance between income (dolar) and expenses (dolar).\n",
    " \n",
    "\n",
    "## 2. Correlation\n",
    "    Definition: Correlation is the standardized version of covariance. It removes the units and gives a value between –1 and +1.\n",
    "Formula: \n",
    "![](cor_formula.png)\n",
    "\n",
    "- Where:\n",
    "    - Cov(X,Y) = covariance between X and Y\n",
    "    - σX,σY= standard deviations of X and Y\n",
    "- Interpretation:\n",
    "    - +1 = Perfect positive linear relationship\n",
    "    - –1 = Perfect negative linear relationship\n",
    "    - 0 = No linear relationship\n",
    "- ✅ Advantage: Correlation is unit-free and easy to interpret."
   ]
  },
  {
   "cell_type": "code",
   "execution_count": null,
   "id": "c9fa147a-b7b3-400f-b384-b2ec34c1f2d3",
   "metadata": {},
   "outputs": [],
   "source": []
  }
 ],
 "metadata": {
  "kernelspec": {
   "display_name": "Python 3 (ipykernel)",
   "language": "python",
   "name": "python3"
  },
  "language_info": {
   "codemirror_mode": {
    "name": "ipython",
    "version": 3
   },
   "file_extension": ".py",
   "mimetype": "text/x-python",
   "name": "python",
   "nbconvert_exporter": "python",
   "pygments_lexer": "ipython3",
   "version": "3.11.3"
  }
 },
 "nbformat": 4,
 "nbformat_minor": 5
}
