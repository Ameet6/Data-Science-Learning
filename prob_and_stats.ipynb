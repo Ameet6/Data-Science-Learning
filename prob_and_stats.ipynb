{
 "cells": [
  {
   "cell_type": "markdown",
   "id": "3f27255a-b890-4024-a3fe-3803a0fa68eb",
   "metadata": {},
   "source": [
    "# Inferential Statistics\n",
    "## 1. What is Inferential Statistics?\n",
    "- Inferential statistics is the branch of statistics that helps us make conclusions or predictions about a population based on data collected from a sample.\n",
    "- Unlike descriptive statistics (which only summarizes data), inferential statistics allows us to generalize from a smaller dataset to a larger group.\n",
    "\n",
    "![alt text](Inferential-Statistics.jpg)\n",
    "\n",
    "\n",
    "## 2. Key Ideas\n",
    "- **Population vs. Sample**\n",
    "    - Population: entire group we want to study (e.g., all students in a country).\n",
    "    - Sample: smaller part of the population (e.g., 200 students surveyed).\n",
    "    - Goal: Use sample data to make statements about the population.\n",
    "\n",
    "- **Probability**\n",
    "    - Foundation of inferential statistics.\n",
    "    - Helps measure uncertainty in predictions.\n",
    "- Random Sampling\n",
    "    - Ensures the sample is representative of the population.\n",
    "\n",
    " ## 3. Main Techniques in Inferential Statistics\n",
    "\n",
    "- **Estimation**\n",
    "    - Point Estimation → estimating a parameter (e.g., population mean) using a sample mean.\n",
    "    - Interval Estimation → Confidence Intervals (range of values within which the population parameter lies with a certain probability).\n",
    "- **Hypothesis Testing**\n",
    "    - Formulate assumptions (null & alternative hypotheses).\n",
    "    - Use tests (t-test, chi-square, ANOVA, etc.) to check if sample evidence supports/rejects the null hypothesis.\n",
    "    - Relies on concepts like p-value and significance level (α).\n",
    "- **Regression & Correlation**\n",
    "    - Analyze relationships between variables.\n",
    "    - Regression → predict one variable based on others.\n",
    "    - Correlation → measure strength of linear relationship."
   ]
  },
  {
   "cell_type": "markdown",
   "id": "e72a94b9-4707-4b33-9773-abe85cbd721a",
   "metadata": {},
   "source": [
    "# Hypothesis Testing\n",
    "    Hypothesis Testing is a statistical method used to decide whether there is enough evidence in a sample of data to support a particular claim about the population.\n",
    "- Type of Hypothesis:\n",
    "  1. Null Hypothesis (H0) :\n",
    "     - The default assumption (e.g., no difference, no effect).\n",
    "     - There is equal chance for every outcome.\n",
    "  2. Alternative Hypothesis (H1):\n",
    "     - The claim we want to test (e.g., there is a difference).\n",
    "     - Or it is the opposit of H0.\n",
    "\n",
    "![alt text](Hypotesis.png)"
   ]
  },
  {
   "cell_type": "code",
   "execution_count": null,
   "id": "b905e083-a57c-4bee-9564-4aa890e9c819",
   "metadata": {},
   "outputs": [],
   "source": []
  },
  {
   "cell_type": "code",
   "execution_count": null,
   "id": "4939ced6-72d1-4e71-ac54-d87046ee9504",
   "metadata": {},
   "outputs": [],
   "source": []
  },
  {
   "cell_type": "markdown",
   "id": "c05bfbea-f3e1-4a3f-bff7-da9256799133",
   "metadata": {},
   "source": [
    "# Significance Level (𝛼)\n",
    "    In hypothesis testing, the significance value, or alpha (α), is a threshold set by the researcher before the experiment to define the acceptable risk of a Type I error—incorrectly rejecting a true null hypothesis.\n",
    "\n",
    "- Common values: 0.05 (5%), 0.01 (1%)\n",
    "- This is the maximum risk we are willing to take of rejecting 𝐻0 when it’s true (Type I error).\n",
    "![alt text](Statistical-Significance.png)\n",
    "## Typical values of (α)\n",
    "- 0.05 (5%) most common to practice.\n",
    "- 0.01 (1%) stricker, used in medical or critical fields.\n",
    "- 0.10 (10%) less strick, exploratory research. "
   ]
  },
  {
   "cell_type": "code",
   "execution_count": null,
   "id": "80ec2fe4-4b73-4f42-bd67-fb051818fc9d",
   "metadata": {},
   "outputs": [],
   "source": []
  },
  {
   "cell_type": "markdown",
   "id": "8492e52c-0581-4f2a-b18a-5817b4bafc5b",
   "metadata": {},
   "source": [
    "# Type I and Type II Errors\n",
    "    When we perform a hypothesis test, there are two possible truths (either 𝐻0 is true or false) and two possible decisions (reject or fail to reject 𝐻0).\n",
    "![alt text](Confusion_matrix.png \"Title\")\n",
    "## Type I Error (False Positive)\n",
    "- Rejecting 𝐻0 when it is actually true.\n",
    "- \"Detecting an effect when there is none.\"\n",
    "- Probability of making this error = α (significance level).\n",
    "- Example: A medical test says a healthy patient has a disease.\n",
    "\n",
    "## Type II Error (False Negative)\n",
    "- Failing to reject 𝐻0 when it is actually false.\n",
    "- \"Missing a real effect.\"\n",
    "- Probability of this error = β.\n",
    "- Example: A medical test says a sick patient is healthy.\n",
    "\n",
    "## Outcomes:\n",
    "1. We reject the H0 when in reality it is false.\n",
    "2. We fail to reject H0 when in reality it is true.\n",
    "3. We reject the H0 when in reality it is true. **(Type I error)**\n",
    "4. We fail to reject the H0 when in reality it is false. **(Type II error)**"
   ]
  },
  {
   "cell_type": "code",
   "execution_count": null,
   "id": "bbf38741-b4a0-4ad9-9b55-5daf2585dda3",
   "metadata": {},
   "outputs": [],
   "source": []
  },
  {
   "cell_type": "markdown",
   "id": "cf53693d-cc7d-4d44-85de-4f98b368e738",
   "metadata": {},
   "source": [
    "# What is a P-Value?\n",
    "    A p-value is the probability of obtaining results at least as extreme as the observed data, assuming the null hypothesis (𝐻0) is true.\n",
    "- It measures how compatible the data are with 𝐻0.\n",
    "## Key Points:\n",
    "1. Small p-value (≤ α)\n",
    "    - Evidence against 𝐻0.\n",
    "    - We reject the null hypothesis.\n",
    "2. Large p-value (> α)\n",
    "    - Data are consistent with 𝐻0.\n",
    "    - We fail to reject 𝐻0.\n",
    "3. It is not\n",
    "    - The probability that 𝐻0 is true.\n",
    "    - The probability that 𝐻1 is true.\n",
    "    - A measure of \"effect size.\"\n",
    "## Example\n",
    "- Imagine we test whether a coin is fair ( 𝐻0 : 𝑝 =0.5 ).\n",
    "- We flip it 10 times and get 9 heads.\n",
    "  - If the coin were truly fair, what’s the probability of seeing 9 or more heads?\n",
    "  - That probability is the p-value.\n",
    "  - If it’s very small (say 0.01), it suggests that such a result would rarely occur by chance, so we doubt 𝐻0."
   ]
  },
  {
   "cell_type": "code",
   "execution_count": null,
   "id": "d7a8e023-5a05-4151-adac-8f8923067b76",
   "metadata": {},
   "outputs": [],
   "source": []
  },
  {
   "cell_type": "markdown",
   "id": "b9413955-c903-4e72-b939-12eb21229d07",
   "metadata": {},
   "source": [
    "# What is a Confidence Interval?\n",
    "    A Confidence Interval (CI) gives a range of values that is likely to contain the true population parameter (like mean or proportion), based on your sample data.\n",
    "## It reflects both:\n",
    "- Estimate (e.g., sample mean)\n",
    "- Uncertainty (due to sampling variability)\n",
    "\n",
    "![alt text](confidence-interval.webp)\n",
    "\n",
    "## Key Idea\n",
    "- A 95% CI means:\n",
    "- If we were to take 100 different random samples and build a 95% CI for each, then about 95 of them would contain the true population mean.\n",
    "- **Important: It does not mean “there is a 95% chance the true mean is in this one interval.”\n",
    "The interval is fixed, the randomness is in the sampling.**"
   ]
  },
  {
   "cell_type": "code",
   "execution_count": null,
   "id": "b3adacbd-42fc-47cc-b2cc-808960f204a6",
   "metadata": {},
   "outputs": [],
   "source": []
  },
  {
   "cell_type": "code",
   "execution_count": null,
   "id": "24e41876-7aff-4977-9566-fa2a9760d3d7",
   "metadata": {},
   "outputs": [],
   "source": []
  },
  {
   "cell_type": "code",
   "execution_count": null,
   "id": "095e8205-4c9a-4056-9d73-eefe85567e18",
   "metadata": {},
   "outputs": [],
   "source": []
  },
  {
   "cell_type": "code",
   "execution_count": null,
   "id": "8657c44d-2412-4204-bab4-e8b14e200514",
   "metadata": {},
   "outputs": [],
   "source": []
  },
  {
   "cell_type": "code",
   "execution_count": null,
   "id": "cd0d31f7-e152-409d-81d1-72644652dbb3",
   "metadata": {},
   "outputs": [],
   "source": []
  }
 ],
 "metadata": {
  "kernelspec": {
   "display_name": "Python 3 (ipykernel)",
   "language": "python",
   "name": "python3"
  },
  "language_info": {
   "codemirror_mode": {
    "name": "ipython",
    "version": 3
   },
   "file_extension": ".py",
   "mimetype": "text/x-python",
   "name": "python",
   "nbconvert_exporter": "python",
   "pygments_lexer": "ipython3",
   "version": "3.11.3"
  }
 },
 "nbformat": 4,
 "nbformat_minor": 5
}
