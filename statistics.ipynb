{
 "cells": [
  {
   "cell_type": "code",
   "execution_count": 3,
   "id": "b85fdd14-f662-430b-885a-bd7f5852f619",
   "metadata": {},
   "outputs": [
    {
     "name": "stdout",
     "output_type": "stream",
     "text": [
      "P(X=1) = 0.5\n",
      "P(X=0) = 0.5000000000000001\n"
     ]
    }
   ],
   "source": [
    "from scipy.stats import bernoulli\n",
    "\n",
    "p = 0.5\n",
    "coin = bernoulli(p)\n",
    "\n",
    "print(\"P(X=1) =\", coin.pmf(1))  # Probability of Heads\n",
    "print(\"P(X=0) =\", coin.pmf(0))  # Probability of Tails\n",
    "\n"
   ]
  },
  {
   "cell_type": "code",
   "execution_count": 17,
   "id": "ae1acf2c-d824-45b7-9f9e-6fdb920db676",
   "metadata": {},
   "outputs": [
    {
     "name": "stdout",
     "output_type": "stream",
     "text": [
      "P(X=1) = 0.2\n",
      "P(X=0) = 0.8\n"
     ]
    }
   ],
   "source": [
    "from scipy.stats import bernoulli\n",
    "\n",
    "p = 0.2\n",
    "email = bernoulli(p)\n",
    "\n",
    "print(\"P(X=1) =\", email.pmf(1))\n",
    "print(\"P(X=0) =\", round(email.pmf(0) , 2))"
   ]
  },
  {
   "cell_type": "code",
   "execution_count": 20,
   "id": "412131f4-9291-4517-a417-f3cceb813430",
   "metadata": {},
   "outputs": [
    {
     "name": "stdout",
     "output_type": "stream",
     "text": [
      "P(X=1) = 0.9\n",
      "P(X=0) = 0.1\n"
     ]
    }
   ],
   "source": [
    "from scipy.stats import bernoulli\n",
    "\n",
    "p = 0.9\n",
    "machine = bernoulli(p)\n",
    "\n",
    "print(\"P(X=1) =\", machine.pmf(1))\n",
    "print(\"P(X=0) =\", round(machine.pmf(0),2))"
   ]
  },
  {
   "cell_type": "code",
   "execution_count": 41,
   "id": "aeffdc2f-52e7-4e9e-a653-934c113cda21",
   "metadata": {},
   "outputs": [
    {
     "name": "stdout",
     "output_type": "stream",
     "text": [
      "P(X=5)= 0.246\n"
     ]
    }
   ],
   "source": [
    "from scipy.stats import binom\n",
    "n = 10\n",
    "p = 0.5\n",
    "x = 5\n",
    "\n",
    "prob = binom.pmf(x, n, p)\n",
    "# print(f\"P(X=5) = {prob:.3f}\")\n",
    "print(\"P(X=5)=\" ,round(prob,3))"
   ]
  },
  {
   "cell_type": "code",
   "execution_count": 46,
   "id": "481203ed-7af1-43ae-afbe-101af4911ac2",
   "metadata": {},
   "outputs": [
    {
     "name": "stdout",
     "output_type": "stream",
     "text": [
      "P(X=2)= 0.285\n"
     ]
    }
   ],
   "source": [
    "from scipy.stats import binom\n",
    "n = 20\n",
    "p = 0.1\n",
    "x = 2\n",
    "\n",
    "prob = binom.pmf(x, n, p)\n",
    "print(\"P(X=2)=\" ,round(prob,3))"
   ]
  },
  {
   "cell_type": "code",
   "execution_count": 43,
   "id": "776b179a-7265-4b6e-bdb1-7374105adf19",
   "metadata": {},
   "outputs": [
    {
     "name": "stdout",
     "output_type": "stream",
     "text": [
      "P(X=2)= 0.285\n"
     ]
    }
   ],
   "source": [
    "from scipy.stats import binom\n",
    "# n = 20\n",
    "# p = 0.1\n",
    "# x = 2\n",
    "\n",
    "prob = binom.pmf(2, 20, 0.1)\n",
    "print(\"P(X=2)=\" ,round(prob,3))"
   ]
  },
  {
   "cell_type": "code",
   "execution_count": 53,
   "id": "604e7a17-a8cc-4c2c-b27b-3e53e33686ab",
   "metadata": {},
   "outputs": [
    {
     "name": "stdout",
     "output_type": "stream",
     "text": [
      "p(x=12): 0.54 %\n"
     ]
    }
   ],
   "source": [
    "from scipy.stats import binom\n",
    "prob = binom.pmf(12,12,0.95)\n",
    "print(\"p(x=12):\", round(prob,3 ),\"%\")"
   ]
  },
  {
   "cell_type": "code",
   "execution_count": 57,
   "id": "09e7607c-472a-4b8a-886f-43212b985d57",
   "metadata": {},
   "outputs": [
    {
     "name": "stdout",
     "output_type": "stream",
     "text": [
      "P(Temperature < 25°C)= 0.5\n"
     ]
    }
   ],
   "source": [
    "from scipy.stats import uniform\n",
    "\n",
    "a1, b1 = 20, 30\n",
    "temp = uniform(loc=a1, scale=b1-a1)\n",
    "prob_temp = temp.cdf(25)\n",
    "print(f\"P(Temperature < 25°C)= {round(prob_temp, 3)}\")\n"
   ]
  },
  {
   "cell_type": "code",
   "execution_count": 59,
   "id": "c41e9f9b-c878-4d07-996d-e543ad783114",
   "metadata": {},
   "outputs": [
    {
     "name": "stdout",
     "output_type": "stream",
     "text": [
      "P(Wait < 5 minutes) = 0.333\n"
     ]
    }
   ],
   "source": [
    "from scipy.stats import uniform\n",
    "a2, b2 = 0, 15\n",
    "bus = uniform(loc=a2, scale=b2-a2)\n",
    "prob_bus = bus.cdf(5)\n",
    "print(f\"P(Wait < 5 minutes) = {round(prob_bus, 3)}\")\n"
   ]
  },
  {
   "cell_type": "code",
   "execution_count": 61,
   "id": "d8477d4b-0f78-4843-b961-cb4ada55069d",
   "metadata": {},
   "outputs": [
    {
     "name": "stdout",
     "output_type": "stream",
     "text": [
      "P(6 <= X <= 8) = 0.5\n"
     ]
    }
   ],
   "source": [
    "from scipy.stats import uniform\n",
    "a3, b3 = 5, 9\n",
    "number = uniform(loc=a3, scale=b3-a3)\n",
    "prob_number = number.cdf(8) - number.cdf(6)\n",
    "print(f\"P(6 <= X <= 8) = {round(prob_number, 3)}\")\n"
   ]
  },
  {
   "cell_type": "code",
   "execution_count": 71,
   "id": "565e2f68-d336-43fa-997f-41323cb2949b",
   "metadata": {},
   "outputs": [
    {
     "name": "stdout",
     "output_type": "stream",
     "text": [
      "0.7217262904120715\n"
     ]
    }
   ],
   "source": [
    "from scipy.stats import norm\n",
    "prob = norm.cdf(110.5, 105, 9.3541) \n",
    "print(prob)"
   ]
  },
  {
   "cell_type": "code",
   "execution_count": 2,
   "id": "d26ff20d-36f5-484b-8f8a-3271a8c9a977",
   "metadata": {},
   "outputs": [
    {
     "name": "stdout",
     "output_type": "stream",
     "text": [
      "P(X < 3) = 0.4421745996289252\n"
     ]
    }
   ],
   "source": [
    "from scipy.stats import gamma\n",
    "\n",
    "prob = gamma.cdf(3, a=2, scale=1/0.5)\n",
    "print(\"P(X < 3) =\", prob)\n",
    "\n"
   ]
  },
  {
   "cell_type": "code",
   "execution_count": 5,
   "id": "211a19a8-ea80-48c1-99f6-1f68c9add10b",
   "metadata": {},
   "outputs": [
    {
     "name": "stdout",
     "output_type": "stream",
     "text": [
      "0.5506710358827784\n"
     ]
    }
   ],
   "source": [
    "from scipy.stats import expon\n",
    "\n",
    "p1 = expon.cdf(4, scale=5)  \n",
    "print(p1)\n"
   ]
  },
  {
   "cell_type": "code",
   "execution_count": 14,
   "id": "6d773162-1243-4619-ba53-567c3e8de941",
   "metadata": {},
   "outputs": [
    {
     "name": "stdout",
     "output_type": "stream",
     "text": [
      "0.6517\n"
     ]
    }
   ],
   "source": [
    "from scipy.stats import beta\n",
    "\n",
    "prob = beta.cdf(0.7, 3, 2)\n",
    "\n",
    "print(prob)\n",
    "\n"
   ]
  },
  {
   "cell_type": "code",
   "execution_count": 16,
   "id": "ec321c11-ac81-4758-9c2c-6d0367ad872b",
   "metadata": {},
   "outputs": [
    {
     "name": "stdout",
     "output_type": "stream",
     "text": [
      "t-score: -1.265 | p-value: 0.2377\n",
      "Cauchy PDF at x=2: 0.0637\n"
     ]
    }
   ],
   "source": [
    "import scipy.stats as stats\n",
    "\n",
    "t_score = (150 - 160) / (25 / (10 ** 0.5))  # Sample vs population mean\n",
    "p_val = 2 * stats.t.cdf(-abs(t_score), df=9)\n",
    "print(\"t-score:\", round(t_score, 3), \"| p-value:\", round(p_val, 4))\n",
    "\n",
    "\n",
    "pdf_cauchy = stats.cauchy.pdf(2)\n",
    "print(\"Cauchy PDF at x=2:\", round(pdf_cauchy, 4))\n"
   ]
  },
  {
   "cell_type": "code",
   "execution_count": null,
   "id": "3b701f93-54fb-403a-9659-47818cb147f2",
   "metadata": {},
   "outputs": [],
   "source": []
  }
 ],
 "metadata": {
  "kernelspec": {
   "display_name": "Python 3 (ipykernel)",
   "language": "python",
   "name": "python3"
  },
  "language_info": {
   "codemirror_mode": {
    "name": "ipython",
    "version": 3
   },
   "file_extension": ".py",
   "mimetype": "text/x-python",
   "name": "python",
   "nbconvert_exporter": "python",
   "pygments_lexer": "ipython3",
   "version": "3.11.7"
  }
 },
 "nbformat": 4,
 "nbformat_minor": 5
}
