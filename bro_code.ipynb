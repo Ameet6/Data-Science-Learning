{
 "cells": [
  {
   "cell_type": "code",
   "execution_count": 2,
   "id": "6d067ddb-9fdb-4145-a3aa-55b027b1b700",
   "metadata": {},
   "outputs": [
    {
     "name": "stdout",
     "output_type": "stream",
     "text": [
      "hello world\n"
     ]
    }
   ],
   "source": [
    "print(\"hello world\")"
   ]
  },
  {
   "cell_type": "code",
   "execution_count": 4,
   "id": "4bdb32a4-0e31-42bb-98b2-5f56ecedb581",
   "metadata": {},
   "outputs": [
    {
     "name": "stdout",
     "output_type": "stream",
     "text": [
      " hello this me Ameet\n"
     ]
    }
   ],
   "source": [
    "my_name= \"Ameet\"\n",
    "print(f\" hello this me {my_name}\")\n"
   ]
  },
  {
   "cell_type": "code",
   "execution_count": 6,
   "id": "68ea701c-943f-447b-9b28-fc4b0fca66db",
   "metadata": {},
   "outputs": [
    {
     "name": "stdout",
     "output_type": "stream",
     "text": [
      " I am 22 years old\n"
     ]
    }
   ],
   "source": [
    "age = 22\n",
    "print(f\" I am {age} years old\")"
   ]
  },
  {
   "cell_type": "code",
   "execution_count": 10,
   "id": "36c16f93-f7bf-485a-8ba8-d44f1e22d9ac",
   "metadata": {},
   "outputs": [
    {
     "name": "stdout",
     "output_type": "stream",
     "text": [
      " My GPA is 3.01\n"
     ]
    }
   ],
   "source": [
    "gpa = 3.01\n",
    "print(f\" My GPA is {gpa}\")"
   ]
  },
  {
   "cell_type": "code",
   "execution_count": 13,
   "id": "593f3519-effa-4cba-8a89-ccd48d5c1f06",
   "metadata": {},
   "outputs": [
    {
     "name": "stdout",
     "output_type": "stream",
     "text": [
      "you are a student: True\n"
     ]
    }
   ],
   "source": [
    "is_student =  True\n",
    "if is_student:\n",
    "    print(f\"you are a student: {is_student}\")\n",
    "else: \n",
    "    print(f\"you are Not a student: {is_student}\")"
   ]
  },
  {
   "cell_type": "code",
   "execution_count": 15,
   "id": "b859b4be-9215-4d1f-8faa-08aecc3a3cc2",
   "metadata": {},
   "outputs": [
    {
     "name": "stdout",
     "output_type": "stream",
     "text": [
      "This item is not available\n"
     ]
    }
   ],
   "source": [
    "for_sale =  False\n",
    "if for_sale:\n",
    "    print(\"This item is for sale\")\n",
    "else:\n",
    "    print(\"This item is not available\")"
   ]
  },
  {
   "cell_type": "code",
   "execution_count": 20,
   "id": "a9bf76f6-48c7-4d2e-94b6-3256b55cefe9",
   "metadata": {},
   "outputs": [
    {
     "name": "stdout",
     "output_type": "stream",
     "text": [
      "<class 'str'>\n",
      "3\n",
      "22.0\n"
     ]
    }
   ],
   "source": [
    "name = \"Ameet\"\n",
    "age = 22\n",
    "gpa = 3.1\n",
    "is_student = True\n",
    "print(type(name))\n",
    "gpa = int(gpa)\n",
    "print(gpa)\n",
    "print(float(age))\n"
   ]
  },
  {
   "cell_type": "code",
   "execution_count": 7,
   "id": "67af2d12-53a2-45cf-8551-8f736e31e906",
   "metadata": {},
   "outputs": [
    {
     "name": "stdin",
     "output_type": "stream",
     "text": [
      "What is your good name?\n",
      " My name is: ameet\n"
     ]
    },
    {
     "name": "stdout",
     "output_type": "stream",
     "text": [
      "hello ameet\n"
     ]
    },
    {
     "name": "stdin",
     "output_type": "stream",
     "text": [
      "How old are you? 22\n"
     ]
    },
    {
     "name": "stdout",
     "output_type": "stream",
     "text": [
      " I am 22 years old\n"
     ]
    }
   ],
   "source": [
    "#input() a function that prompts the user to enter the data \n",
    "# returns the entered data as string\n",
    "name = input(\"What is your good name?\\n My name is:\")\n",
    "print(f\"hello {name}\")\n",
    "Age = input(\"How old are you?\")\n",
    "print(f\" I am {Age} years old\")"
   ]
  },
  {
   "cell_type": "code",
   "execution_count": null,
   "id": "4a04434a-5c4a-4880-8a14-140da914cbc6",
   "metadata": {},
   "outputs": [],
   "source": []
  },
  {
   "cell_type": "code",
   "execution_count": 12,
   "id": "a61ee339-beba-4edc-92dc-3b50af0846de",
   "metadata": {},
   "outputs": [
    {
     "name": "stdin",
     "output_type": "stream",
     "text": [
      "Enter the length: 7\n",
      "Enter the width: 47\n"
     ]
    },
    {
     "name": "stdout",
     "output_type": "stream",
     "text": [
      " The area is 329.0cm\n"
     ]
    }
   ],
   "source": [
    "# rectangle area calc\n",
    "length = float(input(\"Enter the length:\"))\n",
    "width = float(input(\"Enter the width:\"))\n",
    "area = length * width\n",
    "print(f\" The area is {area}cm\")"
   ]
  },
  {
   "cell_type": "code",
   "execution_count": 17,
   "id": "e50d24f8-b1d7-4f90-8ba3-3604c23d426a",
   "metadata": {},
   "outputs": [
    {
     "name": "stdin",
     "output_type": "stream",
     "text": [
      "what item would you like to buy? pizza\n",
      "what is the price ?: 599.0\n",
      "how many would you like?: 2\n"
     ]
    },
    {
     "name": "stdout",
     "output_type": "stream",
     "text": [
      "you have bought 2 pizza\n",
      "your total price is 1198.0$\n"
     ]
    }
   ],
   "source": [
    "#shoping cart program\n",
    "item = input(\"what item would you like to buy?\")\n",
    "price = float(input(\"what is the price ?:\"))\n",
    "quantity = int(input(\"how many would you like?:\"))\n",
    "total = price * quantity \n",
    "print(f\"you have bought {quantity} {item}\")\n",
    "print(f\"your total price is {total}$\")"
   ]
  },
  {
   "cell_type": "code",
   "execution_count": 1,
   "id": "f75db7e9-e973-49c4-b94f-7e6e0bb8571d",
   "metadata": {},
   "outputs": [
    {
     "name": "stdin",
     "output_type": "stream",
     "text": [
      "Enter an adjective (description): wonderful\n",
      "Enter a noun (person, place, thing): lion\n",
      "Enter an adjective (description): lion\n",
      "Enter a verb ending with 'ing'  running\n",
      "Enter an adjective (description): happy\n"
     ]
    },
    {
     "name": "stdout",
     "output_type": "stream",
     "text": [
      "Today I went to a wonderful zoo.\n",
      "In an exhibit, I saw a lion\n",
      "lion was lion and running\n",
      " I was happy!\n"
     ]
    }
   ],
   "source": [
    "# madlib game\n",
    "#word game where you create a story \n",
    "# by filling in blanks with random words \n",
    "adjective1 = input(\"Enter an adjective (description):\")\n",
    "noun1 = input(\"Enter a noun (person, place, thing):\")\n",
    "adjective2 = input(\"Enter an adjective (description):\")\n",
    "verb1 = input(\"Enter a verb ending with 'ing' \")\n",
    "adjective3 = input(\"Enter an adjective (description):\")\n",
    "\n",
    "print(f\"Today I went to a {adjective1} zoo.\")\n",
    "print(f\"In an exhibit, I saw a {noun1}\")\n",
    "print(f\"{noun1} was {adjective2} and {verb1}\")\n",
    "print(f\" I was {adjective3}!\")\n"
   ]
  },
  {
   "cell_type": "code",
   "execution_count": 10,
   "id": "2405cd4f-4ae3-49f0-93c7-cc8ce97417b4",
   "metadata": {},
   "outputs": [
    {
     "name": "stdout",
     "output_type": "stream",
     "text": [
      "3.141592653589793\n",
      "2.718281828459045\n",
      "12.0\n",
      "9\n",
      "9\n"
     ]
    }
   ],
   "source": [
    "import math\n",
    "x = 144\n",
    "y = 8.337\n",
    "z = 9.01\n",
    "print(math.pi)\n",
    "print(math.e)\n",
    "result = math.sqrt(x)\n",
    "print(result)\n",
    "result1 = math.ceil(y)\n",
    "print(result1)\n",
    "result2 = math.floor(z)\n",
    "print(result2)"
   ]
  },
  {
   "cell_type": "code",
   "execution_count": 12,
   "id": "8a74cca1-a8f2-4fec-98d4-5c1b93f81b11",
   "metadata": {},
   "outputs": [
    {
     "name": "stdin",
     "output_type": "stream",
     "text": [
      "Enter the radius of a circle:  5\n"
     ]
    },
    {
     "name": "stdout",
     "output_type": "stream",
     "text": [
      "The circumfernce is: 31.41592653589793cm\n"
     ]
    }
   ],
   "source": [
    "import math\n",
    "radius = float(input(\"Enter the radius of a circle: \"))\n",
    "circumfernce = 2 * math.pi * radius \n",
    "print(f\"The circumfernce is: {circumfernce}cm\")"
   ]
  },
  {
   "cell_type": "code",
   "execution_count": 13,
   "id": "fad78e6e-7209-42a1-8c50-6fad2ea07a08",
   "metadata": {},
   "outputs": [
    {
     "name": "stdin",
     "output_type": "stream",
     "text": [
      "Enter the radius of a circle:  10.5\n"
     ]
    },
    {
     "name": "stdout",
     "output_type": "stream",
     "text": [
      "The area of the circle is: 346.36 cm^2\n"
     ]
    }
   ],
   "source": [
    "import math\n",
    "radius = float(input(\"Enter the radius of a circle: \"))\n",
    "area = math.pi * pow(radius,2)\n",
    "print(f\"The area of the circle is: {round(area,2)} cm^2\")"
   ]
  },
  {
   "cell_type": "code",
   "execution_count": 14,
   "id": "438ad167-e8d8-41e9-943b-6d28acb17376",
   "metadata": {},
   "outputs": [
    {
     "name": "stdin",
     "output_type": "stream",
     "text": [
      "Enter side A:  3\n",
      "Enter side B:  4\n"
     ]
    },
    {
     "name": "stdout",
     "output_type": "stream",
     "text": [
      "side C = 5.0\n"
     ]
    }
   ],
   "source": [
    "import math\n",
    "a = float(input(\"Enter side A: \"))\n",
    "b = float(input(\"Enter side B: \"))\n",
    "c = math.sqrt(pow(a,2) + pow(b,2))\n",
    "print(f\"side C = {c}\")"
   ]
  },
  {
   "cell_type": "markdown",
   "id": "020d52e8-0271-480e-9d2e-41e50e34e81a",
   "metadata": {},
   "source": [
    "# Calculator"
   ]
  },
  {
   "cell_type": "code",
   "execution_count": 4,
   "id": "05b795e3-1e36-4396-b3ef-77675caaa49c",
   "metadata": {},
   "outputs": [
    {
     "name": "stdin",
     "output_type": "stream",
     "text": [
      "Enter an operator ( + - * / ):  +\n",
      "Enter the 1st number 685\n",
      "Enter the 2nd number 3859.57\n"
     ]
    },
    {
     "name": "stdout",
     "output_type": "stream",
     "text": [
      "4544.57\n"
     ]
    }
   ],
   "source": [
    "operator = input(\"Enter an operator ( + - * / ): \")\n",
    "num1 = float(input(\"Enter the 1st number\"))\n",
    "num2 =  float(input(\"Enter the 2nd number\"))\n",
    "#print(num1 + num2)\n",
    "if operator == \"+\":\n",
    "    result = num1 + num2\n",
    "    print(round(result, 3))\n",
    "elif operator == \"-\":\n",
    "    result = num1 - num2 \n",
    "    print(round(result, 3))\n",
    "elif operator == \"*\":\n",
    "    result = num1 * num2\n",
    "    print(round(result, 3))\n",
    "elif operator == \"/\":\n",
    "    result = num1 / num2\n",
    "    print(round(result, 3))\n",
    "else:\n",
    "    print(f\"The {operator} is not a valid operator\")\n"
   ]
  },
  {
   "cell_type": "markdown",
   "id": "2ac5ea40-adff-4e65-aa2e-830ba1a838e0",
   "metadata": {},
   "source": [
    "# python weight converter"
   ]
  },
  {
   "cell_type": "code",
   "execution_count": 5,
   "id": "22fb353d-7f8b-4fd0-ab3a-7d9607c1cfbd",
   "metadata": {},
   "outputs": [
    {
     "name": "stdin",
     "output_type": "stream",
     "text": [
      "Enter your weight: 67\n",
      "kilograms or pounds? ( K or L):  L\n"
     ]
    },
    {
     "name": "stdout",
     "output_type": "stream",
     "text": [
      "Your weight is: 67.0 Kgs.\n"
     ]
    }
   ],
   "source": [
    "weight = float(input(\"Enter your weight:\"))\n",
    "unit = input(\"kilograms or pounds? ( K or L): \")\n",
    "if unit == \"K\":\n",
    "    weight = weight * 2.205\n",
    "    unit = \"Lbs.\"\n",
    "    print(f\"Your weight is: {round(weight,1)} {unit}\")\n",
    "elif unit == \"L\":\n",
    "    weight == weight / 2.205\n",
    "    unit = \"Kgs.\"\n",
    "    print(f\"Your weight is: {round(weight,1)} {unit}\")\n",
    "else:\n",
    "    print(f\"{unit} was not valid\")\n",
    "\n",
    "    "
   ]
  },
  {
   "cell_type": "markdown",
   "id": "eeea6f98-8252-4fb3-96cd-35e2185280d7",
   "metadata": {},
   "source": [
    "# Temprature Converter"
   ]
  },
  {
   "cell_type": "code",
   "execution_count": 11,
   "id": "d9a11c90-3ef5-41ef-93a5-6ef241fda7fe",
   "metadata": {},
   "outputs": [
    {
     "name": "stdin",
     "output_type": "stream",
     "text": [
      "Is this temprature in Celsius or Fahrenheit (C/F):  F\n",
      "Enter the temprature:  91.4\n"
     ]
    },
    {
     "name": "stdout",
     "output_type": "stream",
     "text": [
      "The temprature in Celsius is: 33.0C\n"
     ]
    }
   ],
   "source": [
    "unit = input(\"Is this temprature in Celsius or Fahrenheit (C/F): \")\n",
    "temp = float(input(\"Enter the temprature: \"))\n",
    "\n",
    "if unit == \"C\":\n",
    "    temp = round((9* temp) / 5+ 32,1)\n",
    "    print(f\"The temprature in Fahrnheit is: {temp}F\")\n",
    "elif unit == \"F\":\n",
    "     temp = round((temp - 32) * 5/9 ,1)\n",
    "     print(f\"The temprature in Celsius is: {temp}C\")\n",
    "else:\n",
    "    print(f\"{unit} is an invalid unit of measurement\")"
   ]
  },
  {
   "cell_type": "markdown",
   "id": "6e96cd94-79cc-428c-99ca-611351da70ea",
   "metadata": {},
   "source": [
    "# Logical operators"
   ]
  },
  {
   "cell_type": "markdown",
   "id": "0d8ecd80-110e-40ae-9f8c-98a018d7e68d",
   "metadata": {},
   "source": [
    "Evaluate multiple conditions(or, and, not) \\\n",
    "or = at least one condition must be true  \\\n",
    "and =  both condition must be true \\\n",
    "not = inverts the condition(not false, not true)"
   ]
  },
  {
   "cell_type": "code",
   "execution_count": 4,
   "id": "88faa35a-9d70-42e8-84b4-dee2ec27d55f",
   "metadata": {},
   "outputs": [
    {
     "name": "stdout",
     "output_type": "stream",
     "text": [
      "The outdoor event is cancelled\n"
     ]
    }
   ],
   "source": [
    "temp = -5\n",
    "is_raining = False \n",
    "if temp > 35 or temp < 0 or is_raining:\n",
    "    print(\"The outdoor event is cancelled\")\n",
    "else:\n",
    "    print(\"The outdoor event is still scheduled\")"
   ]
  },
  {
   "cell_type": "code",
   "execution_count": 13,
   "id": "87f08ba7-a246-4632-a773-bfaea6eb08d1",
   "metadata": {},
   "outputs": [
    {
     "name": "stdout",
     "output_type": "stream",
     "text": [
      "It is WARM outside\n"
     ]
    }
   ],
   "source": [
    "temp = 20\n",
    "is_sunny = True\n",
    "if temp >= 28 and is_sunny:\n",
    "    print(\"It is HOT outside\")\n",
    "    print(\"It is SUNNY\")\n",
    "elif temp <= 0 and is_sunny:\n",
    "    print(\"It is COLD outside\")\n",
    "elif 28 > temp > 0 and is_sunny:\n",
    "    print(\"It is WARM outside\")\n"
   ]
  },
  {
   "cell_type": "code",
   "execution_count": 17,
   "id": "32d0392c-588d-4ccc-a985-324f8a85d6d3",
   "metadata": {},
   "outputs": [
    {
     "name": "stdout",
     "output_type": "stream",
     "text": [
      "It is HOT outside\n",
      "It is SUNNY\n"
     ]
    }
   ],
   "source": [
    "temp = 28\n",
    "is_sunny = False\n",
    "if temp >= 28 and not is_sunny:\n",
    "    print(\"It is HOT outside\")\n",
    "    print(\"It is SUNNY\")\n",
    "elif temp <= 0 and not is_sunny:\n",
    "    print(\"It is COLD outside\")\n",
    "elif 28 > temp > 0 and not is_sunny:\n",
    "    print(\"It is WARM outside\")\n"
   ]
  },
  {
   "cell_type": "markdown",
   "id": "0c35d110-087d-4a3f-9e81-8a8008ef13ea",
   "metadata": {},
   "source": [
    "# String methods"
   ]
  },
  {
   "cell_type": "code",
   "execution_count": 3,
   "id": "abca6c95-cfb2-4c2c-befd-75c9f7f1c79a",
   "metadata": {},
   "outputs": [
    {
     "name": "stdin",
     "output_type": "stream",
     "text": [
      "Enter your name:  Ameet kumar\n"
     ]
    },
    {
     "name": "stdout",
     "output_type": "stream",
     "text": [
      "11\n"
     ]
    }
   ],
   "source": [
    "User_name = input(\"Enter your name: \")\n",
    "result = len(User_name)\n",
    "print(result)"
   ]
  },
  {
   "cell_type": "code",
   "execution_count": 5,
   "id": "39f3bed3-7c53-423b-9023-1a191cefd2c9",
   "metadata": {},
   "outputs": [
    {
     "name": "stdin",
     "output_type": "stream",
     "text": [
      "Enter your name:  Ameet kumar\n"
     ]
    },
    {
     "name": "stdout",
     "output_type": "stream",
     "text": [
      "4\n"
     ]
    }
   ],
   "source": [
    "User_name = input(\"Enter your name: \")\n",
    "result = User_name.find(\"t\")\n",
    "print(result)"
   ]
  },
  {
   "cell_type": "code",
   "execution_count": 6,
   "id": "abb7afa5-d989-4faa-8e95-3e06bc69962f",
   "metadata": {},
   "outputs": [
    {
     "name": "stdin",
     "output_type": "stream",
     "text": [
      "Enter your name:  ameet\n"
     ]
    },
    {
     "name": "stdout",
     "output_type": "stream",
     "text": [
      "Ameet\n"
     ]
    }
   ],
   "source": [
    "User_name = input(\"Enter your name: \")\n",
    "result = User_name.capitalize()\n",
    "print(result)"
   ]
  },
  {
   "cell_type": "code",
   "execution_count": 7,
   "id": "65e0c258-f794-4f2b-a7b6-6ffd022c753c",
   "metadata": {},
   "outputs": [
    {
     "name": "stdin",
     "output_type": "stream",
     "text": [
      "Enter your name:  ammet\n"
     ]
    },
    {
     "name": "stdout",
     "output_type": "stream",
     "text": [
      "AMMET\n"
     ]
    }
   ],
   "source": [
    "User_name = input(\"Enter your name: \")\n",
    "result = User_name.upper()\n",
    "print(result)"
   ]
  },
  {
   "cell_type": "code",
   "execution_count": 8,
   "id": "e215454d-8ee4-4e74-b958-530437bc8948",
   "metadata": {},
   "outputs": [
    {
     "name": "stdin",
     "output_type": "stream",
     "text": [
      "Enter your name:  AMEET\n"
     ]
    },
    {
     "name": "stdout",
     "output_type": "stream",
     "text": [
      "ameet\n"
     ]
    }
   ],
   "source": [
    "User_name = input(\"Enter your name: \")\n",
    "result = User_name.lower()\n",
    "print(result)"
   ]
  },
  {
   "cell_type": "code",
   "execution_count": 10,
   "id": "991b56bb-88bb-4afb-b9df-be5747b9bb6d",
   "metadata": {},
   "outputs": [
    {
     "name": "stdin",
     "output_type": "stream",
     "text": [
      "Enter your name:  24\n"
     ]
    },
    {
     "name": "stdout",
     "output_type": "stream",
     "text": [
      "True\n"
     ]
    }
   ],
   "source": [
    "User_name = input(\"Enter your name: \")\n",
    "result = User_name.isdigit()\n",
    "print(result)"
   ]
  },
  {
   "cell_type": "code",
   "execution_count": 11,
   "id": "1ec58d3f-4d48-4701-b1e8-816c15a92705",
   "metadata": {},
   "outputs": [
    {
     "name": "stdin",
     "output_type": "stream",
     "text": [
      "Enter your name:  ameet\n"
     ]
    },
    {
     "name": "stdout",
     "output_type": "stream",
     "text": [
      "True\n"
     ]
    }
   ],
   "source": [
    "User_name = input(\"Enter your name: \")\n",
    "result = User_name.isalpha()\n",
    "print(result)"
   ]
  },
  {
   "cell_type": "code",
   "execution_count": 1,
   "id": "eeab5703-b95c-4ee5-a8e2-d33d5c5cb4de",
   "metadata": {},
   "outputs": [
    {
     "name": "stdin",
     "output_type": "stream",
     "text": [
      "Enter your num : #  45-24-6-5\n"
     ]
    },
    {
     "name": "stdout",
     "output_type": "stream",
     "text": [
      "3\n"
     ]
    }
   ],
   "source": [
    "phone_num = input(\"Enter your num : # \")\n",
    "result = phone_num.count(\"-\")\n",
    "print(result)"
   ]
  },
  {
   "cell_type": "code",
   "execution_count": 3,
   "id": "4fe1798f-2e2d-4d76-b2b3-e9e813690520",
   "metadata": {},
   "outputs": [
    {
     "name": "stdin",
     "output_type": "stream",
     "text": [
      "Enter your num : #  575-85-8\n"
     ]
    },
    {
     "name": "stdout",
     "output_type": "stream",
     "text": [
      "575 85 8\n"
     ]
    }
   ],
   "source": [
    "phone_num = input(\"Enter your num : # \")\n",
    "result = phone_num.replace(\"-\", \" \")\n",
    "print(result)"
   ]
  },
  {
   "cell_type": "code",
   "execution_count": 17,
   "id": "81b6c2f4-c671-46a7-8311-1baac04bbfb0",
   "metadata": {},
   "outputs": [
    {
     "name": "stdin",
     "output_type": "stream",
     "text": [
      "Enter your user_name:  ameet\n"
     ]
    },
    {
     "name": "stdout",
     "output_type": "stream",
     "text": [
      "Welcome ameet\n"
     ]
    }
   ],
   "source": [
    "user_name = input(\"Enter your user_name: \")\n",
    "\n",
    "if len(user_name) > 12:\n",
    "    print(\"The user_name can't contain more than 12 characters\")\n",
    "elif not user_name.find(\" \") == -1:\n",
    "    print(\"The user_name can't contain spaces\")\n",
    "elif not user_name.isalpha():\n",
    "    print(\"The user_name can't contain numbers\")\n",
    "else:\n",
    "    print(f\"Welcome {user_name}\")"
   ]
  },
  {
   "cell_type": "markdown",
   "id": "6b3653ab-9057-4f9a-81c2-66f6c5aca479",
   "metadata": {},
   "source": [
    "# string indexing"
   ]
  },
  {
   "cell_type": "code",
   "execution_count": 24,
   "id": "615ba93c-66ed-4f49-9f94-f7eaf3b537a3",
   "metadata": {},
   "outputs": [
    {
     "name": "stdout",
     "output_type": "stream",
     "text": [
      "36-2078339\n"
     ]
    }
   ],
   "source": [
    "my_num = \"0336-2078339\"\n",
    "print(my_num[2:])"
   ]
  },
  {
   "cell_type": "markdown",
   "id": "032c6ee9-efff-4efd-b099-7cae3a1f2195",
   "metadata": {},
   "source": [
    "# while loop\n",
    "execute some code while some condition remains true"
   ]
  },
  {
   "cell_type": "code",
   "execution_count": 28,
   "id": "393a8a37-942b-4a4c-ac91-6ae97df8b086",
   "metadata": {},
   "outputs": [
    {
     "name": "stdin",
     "output_type": "stream",
     "text": [
      "Enter your name:  \n"
     ]
    },
    {
     "name": "stdout",
     "output_type": "stream",
     "text": [
      "you did not enter your name \n"
     ]
    },
    {
     "name": "stdin",
     "output_type": "stream",
     "text": [
      "Enter your name:  \n"
     ]
    },
    {
     "name": "stdout",
     "output_type": "stream",
     "text": [
      "you did not enter your name \n"
     ]
    },
    {
     "name": "stdin",
     "output_type": "stream",
     "text": [
      "Enter your name:  Ameet K\n"
     ]
    },
    {
     "name": "stdout",
     "output_type": "stream",
     "text": [
      " hello Ameet K\n"
     ]
    }
   ],
   "source": [
    "name = input(\"Enter your name: \")\n",
    "while name == \"\":\n",
    "     print(\"you did not enter your name \")\n",
    "     name = input(\"Enter your name: \")\n",
    "print(f\" hello {name}\")"
   ]
  },
  {
   "cell_type": "code",
   "execution_count": 36,
   "id": "c68c5cc3-8b31-420b-a215-9ca38188d94a",
   "metadata": {},
   "outputs": [
    {
     "name": "stdin",
     "output_type": "stream",
     "text": [
      "Enter your age: -5\n"
     ]
    },
    {
     "name": "stdout",
     "output_type": "stream",
     "text": [
      "Age can't be negative\n"
     ]
    },
    {
     "name": "stdin",
     "output_type": "stream",
     "text": [
      "Enter your age: 22\n"
     ]
    },
    {
     "name": "stdout",
     "output_type": "stream",
     "text": [
      "you are 22 years old\n"
     ]
    }
   ],
   "source": [
    "age = int(input(\"Enter your age:\"))\n",
    "\n",
    "while age < 0:\n",
    "   print(\"Age can't be negative\")\n",
    "   age = int(input(\"Enter your age:\"))\n",
    "print(f\"you are {age} years old\")"
   ]
  },
  {
   "cell_type": "markdown",
   "id": "d26314b5-3d12-4934-89ae-73848473289b",
   "metadata": {},
   "source": [
    "# for loop\n",
    "executes a block of code a fixed number of times, you can itrate over a range ,sequence, string etc"
   ]
  },
  {
   "cell_type": "code",
   "execution_count": 37,
   "id": "2f4ca315-5a76-4f52-899a-f419f753c2f5",
   "metadata": {},
   "outputs": [
    {
     "name": "stdout",
     "output_type": "stream",
     "text": [
      "1\n",
      "2\n",
      "3\n",
      "4\n",
      "5\n",
      "6\n",
      "7\n",
      "8\n",
      "9\n",
      "10\n"
     ]
    }
   ],
   "source": [
    "for x in range(1,11):\n",
    "    print(x)"
   ]
  },
  {
   "cell_type": "code",
   "execution_count": 38,
   "id": "7933228f-e703-45b3-93a5-dbee69c48abd",
   "metadata": {},
   "outputs": [
    {
     "name": "stdout",
     "output_type": "stream",
     "text": [
      "1\n",
      "2\n",
      "3\n",
      "4\n",
      "6\n",
      "7\n",
      "8\n",
      "9\n",
      "10\n",
      "11\n",
      "12\n",
      "13\n",
      "14\n",
      "15\n",
      "16\n",
      "17\n",
      "18\n",
      "19\n",
      "20\n"
     ]
    }
   ],
   "source": [
    "for x in range(1,21):\n",
    "    if x == 5:\n",
    "        continue\n",
    "    else:\n",
    "        print(x)"
   ]
  },
  {
   "cell_type": "code",
   "execution_count": 39,
   "id": "314413ad-5208-47ec-864c-51ca1fe92f32",
   "metadata": {},
   "outputs": [
    {
     "name": "stdout",
     "output_type": "stream",
     "text": [
      "1\n",
      "2\n",
      "3\n",
      "4\n"
     ]
    }
   ],
   "source": [
    "for x in range(1,21):\n",
    "    if x == 5:\n",
    "        break\n",
    "    else:\n",
    "        print(x)"
   ]
  },
  {
   "cell_type": "code",
   "execution_count": null,
   "id": "aa2151b8-3e5f-4d65-8fe1-a72b7f08afd2",
   "metadata": {},
   "outputs": [],
   "source": [
    "import time\n",
    "my_time = int(input(\"Enter the time in seconds:\"))\n",
    "for x in range(my_time , 0 , -1):\n",
    "    seconds = x % 60\n",
    "    minutes = int(x/60)%60\n",
    "    hours =  int(x/3600)\n",
    "    print(f\"{hours:02}:{minutes:02}:{seconds:02}\")\n",
    "    time.sleep(1)\n",
    "print(\"Time's up\")\n",
    " \n",
    "              "
   ]
  },
  {
   "cell_type": "markdown",
   "id": "3392fc5b-303a-49e1-a8fc-62d570c69874",
   "metadata": {},
   "source": [
    "# Nested loop\n",
    "loop within another loop (inner, outer)"
   ]
  },
  {
   "cell_type": "code",
   "execution_count": 2,
   "id": "072dca30-b97e-46d9-9512-cd793855c0da",
   "metadata": {},
   "outputs": [
    {
     "name": "stdout",
     "output_type": "stream",
     "text": [
      "1 2 3 4 5 6 7 8 9 \n",
      "1 2 3 4 5 6 7 8 9 \n",
      "1 2 3 4 5 6 7 8 9 \n",
      "1 2 3 4 5 6 7 8 9 \n",
      "1 2 3 4 5 6 7 8 9 \n"
     ]
    }
   ],
   "source": [
    "for x in range(5):\n",
    "    for y in range(1,10):\n",
    "        print(y, end = \" \")\n",
    "    print()"
   ]
  },
  {
   "cell_type": "code",
   "execution_count": 45,
   "id": "fd1ddc08-2ecd-4305-aa96-2ecb97ec8d75",
   "metadata": {},
   "outputs": [
    {
     "name": "stdin",
     "output_type": "stream",
     "text": [
      "Enter the number of rows:  6\n",
      "Enter the number of columns:  12\n",
      "Enter the symbol:  *\n"
     ]
    },
    {
     "name": "stdout",
     "output_type": "stream",
     "text": [
      "* * * * * * * * * * * * \n",
      "* * * * * * * * * * * * \n",
      "* * * * * * * * * * * * \n",
      "* * * * * * * * * * * * \n",
      "* * * * * * * * * * * * \n",
      "* * * * * * * * * * * * \n"
     ]
    }
   ],
   "source": [
    "rows =  int(input(\"Enter the number of rows: \"))\n",
    "columns = int(input(\"Enter the number of columns: \"))\n",
    "symbol = input(\"Enter the symbol: \")\n",
    "\n",
    "for x in range(rows):\n",
    "    for y in range(columns):\n",
    "        print(symbol, end = \" \")\n",
    "    print()"
   ]
  },
  {
   "cell_type": "markdown",
   "id": "ffe8f3a6-f7b6-43be-a968-642b79e7ac51",
   "metadata": {},
   "source": [
    "# Collections = single variable used to store multiple values\n",
    " list = [] order and changeable, duplicates allows.\\\n",
    " set = {} unordered and imputable, no duplicate, add and remove.\\\n",
    " tuple = () order and unchangeable duplicate allows.\\\n",
    " dictionary = {} key, value pair "
   ]
  },
  {
   "cell_type": "code",
   "execution_count": 2,
   "id": "24e058b1-f2d7-4c77-92ee-fc61abcc25b8",
   "metadata": {},
   "outputs": [
    {
     "name": "stdout",
     "output_type": "stream",
     "text": [
      "['apple', 'banana', 'orange', 'watermelon', 'strawberry']\n"
     ]
    }
   ],
   "source": [
    "fruits = [\"apple\", \"banana\", \"orange\", \"watermelon\", \"strawberry\"]\n",
    "#fruits.append(\"Mango\")\n",
    "#fruits.extend([\"date\"])\n",
    "#fruits.insert(1, \"coconut\")\n",
    "#fruits.pop()\n",
    "#fruits.pop(1)\n",
    "#fruits.count(\"apple\")\n",
    "#fruits.remove(\"apple\")\n",
    "#fruits.index(\"apple\")\n",
    "#fruits.reverse()\n",
    "#fruits.clear()\n",
    "#fruits.sort()\n",
    "#fruits[1] = \"pineapple\"\n",
    "#print(fruits[2])\n",
    "#print(fruits[:2])\n",
    "#print(fruits[1:3])\n",
    "#print(fruits[2:])\n",
    "#print(fruits[::2]) # every second element\n",
    "#print(\"orange\" in fruits)\n",
    "print(fruits)\n",
    "#num = [1,2,3,4,5,6,7,8,9,10]\n",
    "#min(num)\n",
    "#max(num)\n",
    "#sum(num)\n",
    "#len(num)\n",
    "#print(num)\n",
    "#friuts + num # concatenation\n",
    "#num * 2\n",
    "\n",
    "#for n in num:\n",
    "   # print(n)\n",
    "#print(dir(num))\n",
    "#print(help(num))"
   ]
  },
  {
   "cell_type": "code",
   "execution_count": 105,
   "id": "51236d13-b9ba-464d-86e2-dd26a7834a1d",
   "metadata": {},
   "outputs": [
    {
     "name": "stdout",
     "output_type": "stream",
     "text": [
      "orange\n",
      "watermelon\n",
      "strawberry\n",
      "apple\n",
      "banana\n"
     ]
    }
   ],
   "source": [
    "fruits = {\"apple\", \"banana\", \"orange\", \"watermelon\", \"strawberry\"}\n",
    "#fruits.add(\"mango\")\n",
    "#fruits.remove(\"mango\")\n",
    "#fruits.pop()\n",
    "#fruits.clear()\n",
    "#print(fruits)\n",
    "for fruit in fruits:\n",
    "    print(fruit)"
   ]
  },
  {
   "cell_type": "code",
   "execution_count": 101,
   "id": "9d233ebc-7b3b-425f-8632-af812c9d9423",
   "metadata": {},
   "outputs": [
    {
     "name": "stdout",
     "output_type": "stream",
     "text": [
      "('apple', 'banana', 'orange', 'watermelon', 'strawberry')\n",
      "apple\n",
      "banana\n",
      "orange\n",
      "watermelon\n",
      "strawberry\n"
     ]
    }
   ],
   "source": [
    "fruits = (\"apple\", \"banana\", \"orange\", \"watermelon\", \"strawberry\")\n",
    "#len(fruits)\n",
    "#fruits.count(\"orange\")\n",
    "#fruits.index(\"apple\")\n",
    "print(fruits)\n",
    "for x in fruits:\n",
    "    print(x)"
   ]
  },
  {
   "cell_type": "markdown",
   "id": "b950c49b-0e4e-48e1-a9e3-b1d383b58f68",
   "metadata": {},
   "source": [
    "# shopping cart program"
   ]
  },
  {
   "cell_type": "code",
   "execution_count": null,
   "id": "880ae97e-7989-4dd1-9d25-ac5d299819c0",
   "metadata": {},
   "outputs": [],
   "source": [
    "foods = []\n",
    "prices = []\n",
    "total = 0\n",
    "\n",
    "while True:\n",
    "    food = input(\"Enter a food to buy ( q to quit): \")\n",
    "    if food.lower() == \"q\":\n",
    "        break\n",
    "    else:\n",
    "        price = float(input(f\"Enter the price of {food}: $\"))\n",
    "        foods.append(food)\n",
    "        prices.append(price)\n",
    "\n",
    "print(\" Your Cart\")\n",
    "\n",
    "for food in foods:\n",
    "    print(food, end= \" \")\n",
    "for price in prices:\n",
    "    total = price + price\n",
    "print()\n",
    "print(f\" Your total price is ${total} \")"
   ]
  },
  {
   "cell_type": "code",
   "execution_count": 14,
   "id": "32ce743a-5ef4-42bc-9a50-a0de77343642",
   "metadata": {},
   "outputs": [
    {
     "name": "stdout",
     "output_type": "stream",
     "text": [
      "1 2 3 \n",
      "4 5 6 \n",
      "7 8 9 \n",
      "* 0 # \n"
     ]
    }
   ],
   "source": [
    "num_pad = ((1,2,3),(4,5,6),(7,8,9),(\"*\", 0 , \"#\"))\n",
    "for row in num_pad:\n",
    "    for num in row:\n",
    "        print(num, end= \" \")\n",
    "    print()"
   ]
  },
  {
   "cell_type": "markdown",
   "id": "52dc0f76-988f-4e26-8886-fb2adbcfbdee",
   "metadata": {},
   "source": [
    "# python quiz game"
   ]
  },
  {
   "cell_type": "code",
   "execution_count": 68,
   "id": "3152bc83-0fc3-434f-8f2a-15c421194edf",
   "metadata": {},
   "outputs": [
    {
     "name": "stdout",
     "output_type": "stream",
     "text": [
      "How many elements are in periodic table?:\n",
      "A. 116\n",
      "B.117\n",
      "C.118\n",
      "D.119\n",
      "How many bones are in human body?:\n",
      "A. 116\n",
      "B.117\n",
      "C.118\n",
      "D.119\n"
     ]
    },
    {
     "name": "stdin",
     "output_type": "stream",
     "text": [
      "Enter(A,B,C,D): c\n"
     ]
    },
    {
     "name": "stdout",
     "output_type": "stream",
     "text": [
      "CORRECT\n",
      "------------------\n",
      "-RESULT-\n",
      "------------------\n",
      "answers: C\n",
      "B\n",
      "guesess:C \n",
      "your score is 50%\n"
     ]
    }
   ],
   "source": [
    "questions = (\"How many elements are in periodic table?:\",\n",
    "             \"How many bones are in human body?:\")\n",
    "options = ((\"A. 116\",\"B.117\",\"C.118\",\"D.119\"),\n",
    "           (\"A.205\",\"B.206\",\"C.207\",\"D.208\"))\n",
    "answers = (\"C\",\"B\")\n",
    "guesess = []\n",
    "score = 0\n",
    "question_num = 0\n",
    "\n",
    "for question in questions:\n",
    "    #print(\"------------------\")\n",
    "    print(question)\n",
    "    for option in options[question_num]:\n",
    "        print(option)\n",
    "guess = input(\"Enter(A,B,C,D):\").upper()\n",
    "guesess.append(guess)\n",
    "if guess == answers[question_num]:\n",
    "    score += 1\n",
    "    print(\"CORRECT\")\n",
    "else:\n",
    "    print(\"Incorrect\")\n",
    "    print(f\"{answers[question_num]} is the correct answer\")\n",
    "print(\"------------------\")\n",
    "print(\"-RESULT-\")\n",
    "print(\"------------------\")\n",
    "print(\"answers:\" , end= \" \") \n",
    "for answer in answers:\n",
    "    print(answer, end= \"\")\n",
    "    print()\n",
    "print(\"guesess:\" , end= \"\") \n",
    "for guess in guesess:\n",
    "    print(guess, end= \" \")\n",
    "    print()\n",
    "score = int(score/len(questions) * 100)\n",
    "print(f\"your score is {score}%\")"
   ]
  },
  {
   "cell_type": "code",
   "execution_count": null,
   "id": "30e39f9d-2551-444d-8649-c60d6b872f81",
   "metadata": {},
   "outputs": [],
   "source": []
  }
 ],
 "metadata": {
  "kernelspec": {
   "display_name": "Python 3 (ipykernel)",
   "language": "python",
   "name": "python3"
  },
  "language_info": {
   "codemirror_mode": {
    "name": "ipython",
    "version": 3
   },
   "file_extension": ".py",
   "mimetype": "text/x-python",
   "name": "python",
   "nbconvert_exporter": "python",
   "pygments_lexer": "ipython3",
   "version": "3.11.7"
  }
 },
 "nbformat": 4,
 "nbformat_minor": 5
}
